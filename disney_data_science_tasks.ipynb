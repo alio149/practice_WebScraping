{
 "metadata": {
  "language_info": {
   "codemirror_mode": {
    "name": "ipython",
    "version": 3
   },
   "file_extension": ".py",
   "mimetype": "text/x-python",
   "name": "python",
   "nbconvert_exporter": "python",
   "pygments_lexer": "ipython3",
   "version": "3.9.5"
  },
  "orig_nbformat": 4,
  "kernelspec": {
   "name": "python3",
   "display_name": "Python 3.9.5 64-bit ('web': conda)"
  },
  "interpreter": {
   "hash": "10492b9faefd9f04d20431f3f999e0feff9933227ec3c624ad64c74fc1fdbb4d"
  }
 },
 "nbformat": 4,
 "nbformat_minor": 2,
 "cells": [
  {
   "source": [
    "# Disney Dataset Creation (BeautifulSoup)\n",
    "\n",
    "### Scrape & clean a list of disney wikipedia pages to create a dataset to further analyze\n",
    "\n",
    "Based on a youtube tutorial in Keith Galli chanel\n",
    "https://www.youtube.com/watch?v=Ewgy-G9cmbg"
   ],
   "cell_type": "markdown",
   "metadata": {}
  },
  {
   "source": [
    "### Import Necessary Libraries"
   ],
   "cell_type": "markdown",
   "metadata": {}
  },
  {
   "cell_type": "code",
   "execution_count": null,
   "metadata": {},
   "outputs": [],
   "source": [
    "from bs4 import BeautifulSoup as bs\n",
    "import requests\n",
    "import re\n",
    "import json\n",
    "from datetime import datetime\n",
    "import pickle\n",
    "import urllib\n"
   ]
  },
  {
   "source": [
    "# Get list of movies from Wikipedia"
   ],
   "cell_type": "markdown",
   "metadata": {}
  },
  {
   "cell_type": "code",
   "execution_count": null,
   "metadata": {},
   "outputs": [],
   "source": [
    "url = 'https://en.wikipedia.org/wiki/List_of_Walt_Disney_Pictures_films'\n",
    "page = requests.get(url)"
   ]
  },
  {
   "cell_type": "code",
   "execution_count": null,
   "metadata": {},
   "outputs": [],
   "source": [
    "soup = bs(page.content)\n",
    "tabels = soup.select('.wikitable.sortable i a')"
   ]
  },
  {
   "cell_type": "code",
   "execution_count": null,
   "metadata": {},
   "outputs": [],
   "source": [
    "movies = []"
   ]
  },
  {
   "cell_type": "code",
   "execution_count": null,
   "metadata": {},
   "outputs": [],
   "source": [
    "def get_content_valeu(row_data):\n",
    "    if row_data.find('li'):\n",
    "        return [li.get_text(' ', strip = True).replace('\\xa0', ' ') for li in row_data.find_all('li')]\n",
    "    \n",
    "    elif row_data.find('br'):\n",
    "        return [text for text in row_data.stripped_strings]\n",
    "    \n",
    "    else: \n",
    "        return row_data.get_text(' ', strip = True).replace('\\xa0', ' ')\n"
   ]
  },
  {
   "cell_type": "code",
   "execution_count": null,
   "metadata": {},
   "outputs": [],
   "source": [
    "def tag_remover(soup):\n",
    "    for tag in soup.find_all(['sup', 'span']):\n",
    "        tag.decompose()\n",
    "    return"
   ]
  },
  {
   "cell_type": "code",
   "execution_count": null,
   "metadata": {},
   "outputs": [],
   "source": [
    "def extract_info(movie_url):\n",
    "    try:\n",
    "        page = requests.get(movie_url)\n",
    "        soup = bs(page.content)\n",
    "        info_box = soup.find(class_='infobox vevent')\n",
    "        info_row = info_box.find_all('tr')\n",
    "        tag_remover(soup)\n",
    "        movie_dic = {}\n",
    "        \n",
    "        for index, row in enumerate(info_row):\n",
    "            if index == 0:\n",
    "                movie_dic['Titel'] =  row.find(\"th\").get_text(\" \", strip=True)\n",
    "            else:\n",
    "                header = row.find('th')\n",
    "                if header:\n",
    "                    content_key = row.find(\"th\").get_text(\" \", strip=True)\n",
    "                    content_value = get_content_valeu(row.find(\"td\"))\n",
    "                    movie_dic[content_key] = content_value\n",
    "        return movie_dic\n",
    "    except Exception as e:\n",
    "        print(movie_url)\n",
    "        print(e)\n"
   ]
  },
  {
   "cell_type": "code",
   "execution_count": null,
   "metadata": {
    "tags": []
   },
   "outputs": [],
   "source": [
    "for index, movie in enumerate(tabels):\n",
    "    href = tabels[index]['href']\n",
    "    #print(tabels[index])\n",
    "    movie_url = 'https://en.wikipedia.org' + href\n",
    "    if extract_info(movie_url):\n",
    "        movies.append(extract_info(movie_url))\n",
    "    \n"
   ]
  },
  {
   "source": [
    "## Save/Reload Movie Data"
   ],
   "cell_type": "markdown",
   "metadata": {}
  },
  {
   "cell_type": "code",
   "execution_count": null,
   "metadata": {},
   "outputs": [],
   "source": [
    "def save_data(titel, movie_list):\n",
    "    with open(titel, 'w') as f:\n",
    "        json.dump(movie_list, f, indent= 4)\n",
    "        \n",
    "def load_data(titel):\n",
    "    with open(titel, 'r') as f:\n",
    "        li = json.load(f)\n",
    "        return li"
   ]
  },
  {
   "cell_type": "code",
   "execution_count": null,
   "metadata": {},
   "outputs": [],
   "source": [
    "save_data('disney_data.json', movies)"
   ]
  },
  {
   "cell_type": "code",
   "execution_count": null,
   "metadata": {},
   "outputs": [],
   "source": [
    "movies = load_data('disney_data.json')"
   ]
  },
  {
   "cell_type": "code",
   "execution_count": null,
   "metadata": {},
   "outputs": [],
   "source": [
    "extract_info('https://en.wikipedia.org/wiki/Toy_Story_4')"
   ]
  },
  {
   "cell_type": "code",
   "execution_count": null,
   "metadata": {},
   "outputs": [],
   "source": [
    "len(movies)"
   ]
  },
  {
   "cell_type": "code",
   "execution_count": null,
   "metadata": {},
   "outputs": [],
   "source": [
    "movies[43]"
   ]
  },
  {
   "source": [
    "# Clean data and add more info"
   ],
   "cell_type": "markdown",
   "metadata": {}
  },
  {
   "source": [
    "### Convert running time into an integer"
   ],
   "cell_type": "markdown",
   "metadata": {}
  },
  {
   "cell_type": "code",
   "execution_count": null,
   "metadata": {},
   "outputs": [],
   "source": [
    "#[movie.get('Running time', 'N/A') for movie in movies]\n",
    "def min_to_int(running_time):\n",
    "    if running_time == 'N/A':\n",
    "        return None\n",
    "    if isinstance(running_time, list):\n",
    "        \n",
    "        return int(running_time[0].split(' ')[0])\n",
    "    else:\n",
    "        return int(running_time.split(' ')[0])\n",
    "\n",
    "for movie in movies:\n",
    "    movie['Running time(int)'] = min_to_int(movie.get('Running time', 'N/A'))\n"
   ]
  },
  {
   "source": [
    "### Convert Budget & Box office to numbers"
   ],
   "cell_type": "markdown",
   "metadata": {}
  },
  {
   "cell_type": "code",
   "execution_count": null,
   "metadata": {},
   "outputs": [],
   "source": [
    "#[movie.get('Budget', 'N/A') for movie in movies]\n"
   ]
  },
  {
   "cell_type": "code",
   "execution_count": null,
   "metadata": {},
   "outputs": [],
   "source": [
    "money_r = r'[\\$]?(\\d+([,\\.\\d]+)?)'\n",
    "magnitud = r\"thousand|million|billion\"\n",
    "money_mag = rf'{money_r}(-|\\sto\\s|–)?\\s({magnitud})'\n",
    "\n",
    "def add_magnitud(string):\n",
    "    mag = {'thousand':1000, 'million': 1000000, 'billion': 1000000000}\n",
    "    \n",
    "    return mag[string]\n",
    "\n",
    "def parse_money(string):\n",
    "    valeu  = re.search(money_r, string).group()\n",
    "    valeu = valeu.replace('$', '')\n",
    "    return float(valeu.replace(',', ''))\n",
    "\n",
    "def parse_mag(string):\n",
    "    valeu = re.search(money_mag, string).group()\n",
    "    valeu = valeu.replace('$', '')\n",
    "    valeu = valeu.replace(',', '')\n",
    "\n",
    "    mag = add_magnitud(valeu.split(' ')[1])\n",
    "    return float(valeu.split(' ')[0]) * mag\n",
    "\n",
    "\n",
    "\n",
    "\n",
    "def money_convert(money):\n",
    "    if money == 'N/A':\n",
    "        return None\n",
    "    \n",
    "    if isinstance(money, list):\n",
    "        money = money[0]\n",
    "    \n",
    "    money_val = re.search(money_r, money)\n",
    "    money_mag_val = re.search(money_mag, money)\n",
    "\n",
    "    \n",
    "    if money_mag_val:\n",
    "        return parse_mag(money)\n",
    "    elif money_val:\n",
    "        return parse_money(money)\n",
    "    else:\n",
    "        return None\n"
   ]
  },
  {
   "cell_type": "code",
   "execution_count": null,
   "metadata": {},
   "outputs": [],
   "source": [
    "for movie in movies:\n",
    "    movie['Box office (int)'] = money_convert(movie.get('Box office', 'N/A'))\n",
    "    movie['Budget (int)'] = money_convert(movie.get('Budget', 'N/A'))"
   ]
  },
  {
   "cell_type": "code",
   "execution_count": null,
   "metadata": {},
   "outputs": [],
   "source": [
    "movies[-100]"
   ]
  },
  {
   "source": [
    "### Convert dates into datetime object"
   ],
   "cell_type": "markdown",
   "metadata": {}
  },
  {
   "cell_type": "code",
   "execution_count": null,
   "metadata": {},
   "outputs": [],
   "source": [
    "#[movie.get('Release date', 'N/A') for movie in movies]"
   ]
  },
  {
   "cell_type": "code",
   "execution_count": null,
   "metadata": {},
   "outputs": [],
   "source": [
    "date_frt = ['%B %d, %Y', '%d %B, %Y']\n",
    "def date_cleaner(date_string):\n",
    "    date = date_string.split('(')[0].strip()\n",
    "    return date\n",
    "\n",
    "def datetime_convertor(datetime_string):\n",
    "    if datetime_string == 'N/A':\n",
    "        return None\n",
    "    if isinstance(datetime_string, list):\n",
    "        datetime_string = datetime_string[0]\n",
    "    \n",
    "    for frt in date_frt:\n",
    "        try:\n",
    "           \n",
    "           return datetime.strptime(date_cleaner(datetime_string), frt)\n",
    "        except:\n",
    "            pass\n",
    "    return None\n"
   ]
  },
  {
   "cell_type": "code",
   "execution_count": null,
   "metadata": {},
   "outputs": [],
   "source": [
    "for movie in movies:\n",
    "    movie['Release date (date)'] = datetime_convertor(movie.get('Release date', 'N/A'))"
   ]
  },
  {
   "cell_type": "code",
   "execution_count": null,
   "metadata": {},
   "outputs": [],
   "source": [
    "movies[-100]"
   ]
  },
  {
   "source": [
    "### Save/Reload Movie Data"
   ],
   "cell_type": "markdown",
   "metadata": {}
  },
  {
   "cell_type": "code",
   "execution_count": null,
   "metadata": {},
   "outputs": [],
   "source": [
    "def save_data_pickle(name, data):\n",
    "    with open(name, 'wb') as f:\n",
    "        pickle.dump(data, f)\n",
    "def load_data_pickle(name):\n",
    "    with open(name, 'rb') as f:\n",
    "        return pickle.load(f)"
   ]
  },
  {
   "cell_type": "code",
   "execution_count": null,
   "metadata": {},
   "outputs": [],
   "source": [
    "save_data_pickle(\"disney_movie_data_cleaned_more.pickle\", movies)"
   ]
  },
  {
   "cell_type": "code",
   "execution_count": null,
   "metadata": {},
   "outputs": [],
   "source": [
    "movies = load_data_pickle(\"disney_movie_data_cleaned_more.pickle\")"
   ]
  },
  {
   "source": [
    "# Attach IMDB/Rotten Tomatoes/Metascore scores"
   ],
   "cell_type": "markdown",
   "metadata": {}
  },
  {
   "cell_type": "code",
   "execution_count": null,
   "metadata": {},
   "outputs": [],
   "source": [
    "data_url = 'http://www.omdbapi.com/?'\n",
    "\n",
    "def get_info_omdb(title):\n",
    "    parameters = {'apikey':0000000, 't': title}\n",
    "    encode_params = urllib.parse.urlencode(parameters)\n",
    "    full_path = data_url + encode_params\n",
    "\n",
    "    return requests.get(full_path).json()\n",
    "\n",
    "def get_rotten_tomato_score(omdb_info):\n",
    "    ratings = omdb_info.get('Ratings', [])\n",
    "    for rating in ratings:\n",
    "        if rating['Source'] == 'Rotten Tomatoes':\n",
    "            return rating['Value']\n",
    "    return None\n"
   ]
  },
  {
   "cell_type": "code",
   "execution_count": null,
   "metadata": {},
   "outputs": [],
   "source": [
    "for movie in movies:\n",
    "    omdb = get_info_omdb(movie.get('titel'))\n",
    "    movie['imdbRating'] = omdb.get('imdbRating')\n",
    "    movie['Metascore'] = omdb.get('Metascore')\n",
    "    movie['rotten_tomatoes'] = get_rotten_tomato_score(omdb)\n"
   ]
  },
  {
   "cell_type": "code",
   "execution_count": null,
   "metadata": {},
   "outputs": [],
   "source": [
    "movies[-50]"
   ]
  },
  {
   "cell_type": "code",
   "execution_count": null,
   "metadata": {},
   "outputs": [],
   "source": [
    "save_data_pickle('disney_movie_data_final.pickle', movies)"
   ]
  },
  {
   "cell_type": "code",
   "execution_count": null,
   "metadata": {},
   "outputs": [],
   "source": []
  }
 ]
}